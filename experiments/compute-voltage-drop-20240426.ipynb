{
 "cells": [
  {
   "cell_type": "code",
   "execution_count": null,
   "id": "a149c77c-fec7-482d-9ec8-74fbd020dee1",
   "metadata": {},
   "outputs": [],
   "source": [
    "from math import sqrt\n",
    "sqrt(3)"
   ]
  },
  {
   "cell_type": "code",
   "execution_count": null,
   "id": "27933185-e6fb-4b13-bec0-8082105951d5",
   "metadata": {},
   "outputs": [],
   "source": [
    "source_line_to_line_in_volts = 480\n",
    "current_in_amps = 14\n",
    "cosine_phi = 0.85\n",
    "sine_phi = sqrt(1 - cosine_phi ** 2)"
   ]
  },
  {
   "cell_type": "code",
   "execution_count": null,
   "id": "8a9eb094-812a-4f6f-bc02-f0531df93837",
   "metadata": {},
   "outputs": [],
   "source": [
    "length_in_feet = 200\n",
    "resistance_in_ohms_per_foot = 2 / 1000\n",
    "reactance_in_ohms_per_foot = 0.068 / 1000\n",
    "resistance_in_ohms = resistance_in_ohms_per_foot * length_in_feet\n",
    "reactance_in_ohms = reactance_in_ohms_per_foot * length_in_feet"
   ]
  },
  {
   "cell_type": "code",
   "execution_count": null,
   "id": "1302d4b1-c7cc-4642-8bb7-879b1e5b7f5e",
   "metadata": {},
   "outputs": [],
   "source": [
    "is_three_phase = True"
   ]
  },
  {
   "cell_type": "code",
   "execution_count": null,
   "id": "1287e961-dab9-403a-ad74-aa9278117cc2",
   "metadata": {},
   "outputs": [],
   "source": [
    "k = sqrt(3) if is_three_phase else 2\n",
    "\n",
    "def get_line_to_neutral_in_volts(line_to_line_in_volts):\n",
    "    return line_to_line_in_volts / k\n",
    "    \n",
    "def get_line_to_line_in_volts(line_to_neutral_in_volts):\n",
    "    return line_to_neutral_in_volts * k"
   ]
  },
  {
   "cell_type": "code",
   "execution_count": null,
   "id": "8a4c401f-43b5-457b-9501-49ded0af394a",
   "metadata": {},
   "outputs": [],
   "source": [
    "source_line_to_neutral_in_volts = get_line_to_neutral_in_volts(source_line_to_line_in_volts)\n",
    "source_line_to_neutral_in_volts"
   ]
  },
  {
   "cell_type": "code",
   "execution_count": null,
   "id": "09176f14-37a0-45ee-8919-9a6e094fa287",
   "metadata": {},
   "outputs": [],
   "source": [
    "# 1990 IEEE Standard 241 Page 72\n",
    "target_line_to_neutral_in_volts = sqrt(source_line_to_neutral_in_volts ** 2 - (\n",
    "    current_in_amps * reactance_in_ohms * cosine_phi -\n",
    "    current_in_amps * resistance_in_ohms * sine_phi) ** 2\n",
    ") - (\n",
    "    current_in_amps * resistance_in_ohms * cosine_phi +\n",
    "    current_in_amps * reactance_in_ohms * sine_phi)\n",
    "target_line_to_line_in_volts = get_line_to_line_in_volts(target_line_to_neutral_in_volts)\n",
    "target_line_to_line_in_volts"
   ]
  },
  {
   "cell_type": "code",
   "execution_count": null,
   "id": "3518273b-146c-46aa-8bee-7a5f38b02179",
   "metadata": {},
   "outputs": [],
   "source": [
    "line_to_line_drop_in_volts = source_line_to_line_in_volts - target_line_to_line_in_volts\n",
    "line_to_line_drop_in_volts"
   ]
  },
  {
   "cell_type": "code",
   "execution_count": null,
   "id": "8c9747ef-8ecd-4873-a6a5-c2269aa58862",
   "metadata": {},
   "outputs": [],
   "source": [
    "line_to_neutral_drop_in_volts = get_line_to_neutral_in_volts(line_to_line_drop_in_volts)\n",
    "line_to_neutral_drop_in_volts"
   ]
  },
  {
   "cell_type": "code",
   "execution_count": null,
   "id": "46353423-0759-421f-8ac5-3b4b37476d3d",
   "metadata": {},
   "outputs": [],
   "source": [
    "line_to_line_drop_percent = line_to_line_drop_in_volts / source_line_to_line_in_volts\n",
    "line_to_line_drop_percent"
   ]
  },
  {
   "cell_type": "code",
   "execution_count": null,
   "id": "f9c5a244-4b9d-4f47-b694-c7d26eb3e10c",
   "metadata": {},
   "outputs": [],
   "source": [
    "line_to_neutral_drop_percent = line_to_neutral_drop_in_volts / source_line_to_neutral_in_volts\n",
    "line_to_neutral_drop_percent"
   ]
  }
 ],
 "metadata": {
  "kernelspec": {
   "display_name": "Python 3 (ipykernel)",
   "language": "python",
   "name": "python3"
  },
  "language_info": {
   "codemirror_mode": {
    "name": "ipython",
    "version": 3
   },
   "file_extension": ".py",
   "mimetype": "text/x-python",
   "name": "python",
   "nbconvert_exporter": "python",
   "pygments_lexer": "ipython3",
   "version": "3.12.2"
  }
 },
 "nbformat": 4,
 "nbformat_minor": 5
}
