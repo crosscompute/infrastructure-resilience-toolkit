{
 "cells": [
  {
   "cell_type": "code",
   "execution_count": null,
   "id": "79a400d7-7c88-41fd-8ab1-2ff7a9399bb6",
   "metadata": {},
   "outputs": [],
   "source": [
    "# Single Phase\n",
    "error_in_volts = 2 * \n",
    "drop_in_volts ="
   ]
  },
  {
   "cell_type": "code",
   "execution_count": null,
   "id": "d968cf50-dc0a-4b94-9b47-6d90241e5029",
   "metadata": {},
   "outputs": [],
   "source": [
    "# Three Phase"
   ]
  }
 ],
 "metadata": {
  "kernelspec": {
   "display_name": "Python 3 (ipykernel)",
   "language": "python",
   "name": "python3"
  },
  "language_info": {
   "codemirror_mode": {
    "name": "ipython",
    "version": 3
   },
   "file_extension": ".py",
   "mimetype": "text/x-python",
   "name": "python",
   "nbconvert_exporter": "python",
   "pygments_lexer": "ipython3",
   "version": "3.12.2"
  }
 },
 "nbformat": 4,
 "nbformat_minor": 5
}
