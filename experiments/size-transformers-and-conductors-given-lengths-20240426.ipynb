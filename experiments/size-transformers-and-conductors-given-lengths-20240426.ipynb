{
 "cells": [
  {
   "cell_type": "markdown",
   "id": "5dd266ef-478b-4e32-a32b-f6c3ffd2f975",
   "metadata": {},
   "source": [
    "# Size Transformers and Conductors Given Lengths\n",
    "\n",
    "Objective\n",
    "- Minimize cost.\n",
    "\n",
    "Constraints\n",
    "- Each distribution transformer has a maximum capacity in kVA.\n",
    "- Each service drop must be within a certain percentage of the target voltage."
   ]
  },
  {
   "cell_type": "code",
   "execution_count": null,
   "id": "b3b1a109-71b3-4caa-a9a7-7fcd94a3dc6d",
   "metadata": {},
   "outputs": [],
   "source": [
    "# TODO: Use phase_count, motor_horsepower, target_in_volts to get current_in_amps\n",
    "# TODO: Use phase_count, power_in_watts, target_in_volts to get current_in_amps"
   ]
  },
  {
   "cell_type": "code",
   "execution_count": null,
   "id": "da0213aa-701f-4564-b2e9-84902de5d30f",
   "metadata": {},
   "outputs": [],
   "source": [
    "length_unit = 'ft'\n",
    "power_unit = 'kW'"
   ]
  },
  {
   "cell_type": "code",
   "execution_count": null,
   "id": "8ae9d482-52df-4c87-b6cd-99fa549eac93",
   "metadata": {},
   "outputs": [],
   "source": [
    "import csv\n",
    "with open('transformer-types.csv', 'rt') as f:\n",
    "    transformer_types = list(csv.DictReader(f))\n",
    "transformer_types[:1]"
   ]
  },
  {
   "cell_type": "code",
   "execution_count": null,
   "id": "c99aa96e-b3d7-425e-a5d9-8c2f0f5690d3",
   "metadata": {},
   "outputs": [],
   "source": [
    "conductor_types = [\n",
    "    {'name': '', 'resistance_in_ohms_per_foot': '', 'reactance_in_ohms_per_foot': ''},\n",
    "]"
   ]
  },
  {
   "cell_type": "code",
   "execution_count": null,
   "id": "3eff1b28-dff1-432f-81ff-6d0fe64326bc",
   "metadata": {},
   "outputs": [],
   "source": [
    "service_drops = [\n",
    "    {'name': 'sd0', 'type': 'overhead', 'length_in_feet': 100, 'spacing_in_inches': 12, 'power_in_kilowatts': 2, 'cosine_phi': 0.35},\n",
    "    {'name': 'sd1', 'type': 'underground', 'length_in_feet': 100, 'spacing_in_inches': 12, 'power_in_kilowatts': 2, 'cosine_phi': 0.35},\n",
    "]"
   ]
  }
 ],
 "metadata": {
  "kernelspec": {
   "display_name": "Python 3 (ipykernel)",
   "language": "python",
   "name": "python3"
  },
  "language_info": {
   "codemirror_mode": {
    "name": "ipython",
    "version": 3
   },
   "file_extension": ".py",
   "mimetype": "text/x-python",
   "name": "python",
   "nbconvert_exporter": "python",
   "pygments_lexer": "ipython3",
   "version": "3.12.2"
  }
 },
 "nbformat": 4,
 "nbformat_minor": 5
}
