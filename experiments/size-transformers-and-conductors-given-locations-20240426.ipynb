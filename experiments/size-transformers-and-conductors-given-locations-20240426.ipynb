{
 "cells": [
  {
   "cell_type": "markdown",
   "id": "7217077f-249a-4b98-94d4-105922686714",
   "metadata": {},
   "source": [
    "# Size Transformers and Conductors Given Locations\n",
    "\n",
    "Objective\n",
    "- Minimize cost.\n",
    "\n",
    "Constraints\n",
    "- Assign each service drop to a distribution transformer.\n",
    "- Each distribution transformer can supply multiple service drops.\n",
    "- Each distribution transformer has a maximum capacity in kVA.\n",
    "- Each service drop must be within a certain percentage of the target voltage."
   ]
  },
  {
   "cell_type": "code",
   "execution_count": null,
   "id": "72a58d31-6393-40ed-a4bd-37de987eff5c",
   "metadata": {},
   "outputs": [],
   "source": [
    "# TODO: Convert from a geographic coordinate system to a projected coordinate system\n",
    "# TODO: Normalize units\n",
    "# TODO: Choose optimization algorithm"
   ]
  },
  {
   "cell_type": "code",
   "execution_count": null,
   "id": "7595cc6f-d534-48a1-b147-56b4600b2859",
   "metadata": {},
   "outputs": [],
   "source": [
    "length_unit = 'ft'\n",
    "line_sag = 1\n",
    "line_labor_cost_per_unit = 1\n",
    "line_material_cost_per_unit = 0.5\n",
    "line_cost_per_unit = line_labor_cost_per_unit + line_material_cost_per_unit"
   ]
  },
  {
   "cell_type": "code",
   "execution_count": null,
   "id": "7752390b-3fce-4a74-8e3d-b3916e0c70b2",
   "metadata": {},
   "outputs": [],
   "source": [
    "distribution_transformers = [\n",
    "    {'name': 'dt0', 'type': '?', 'x': +1, 'y': +1, 'z': 0},\n",
    "    {'name': 'dt1', 'type': '?', 'x': -1, 'y': -1, 'z': 0},\n",
    "]"
   ]
  },
  {
   "cell_type": "code",
   "execution_count": null,
   "id": "eb47dff0-0470-41e8-a99f-40d1d4c37347",
   "metadata": {},
   "outputs": [],
   "source": [
    "service_drops = [\n",
    "    {'name': 'sd0', 'type': 'overhead', 'x': +10, 'y': +10, 'z': +10},\n",
    "    {'name': 'sd1', 'type': 'underground', 'x': -10, 'y': -10, 'z': +10},\n",
    "]"
   ]
  },
  {
   "cell_type": "code",
   "execution_count": null,
   "id": "91ff92ac-aa7b-49b5-af93-6ba37a8b5ef1",
   "metadata": {},
   "outputs": [],
   "source": [
    "service_lines = [\n",
    "    {'name': '?', 'type': '?', 'length': '?'},\n",
    "    {'name': '?', 'type': '?', 'length': '?'},\n",
    "]"
   ]
  }
 ],
 "metadata": {
  "kernelspec": {
   "display_name": "Python 3 (ipykernel)",
   "language": "python",
   "name": "python3"
  },
  "language_info": {
   "codemirror_mode": {
    "name": "ipython",
    "version": 3
   },
   "file_extension": ".py",
   "mimetype": "text/x-python",
   "name": "python",
   "nbconvert_exporter": "python",
   "pygments_lexer": "ipython3",
   "version": "3.12.2"
  }
 },
 "nbformat": 4,
 "nbformat_minor": 5
}
