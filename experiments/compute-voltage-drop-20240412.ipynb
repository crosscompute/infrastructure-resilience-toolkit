{
 "cells": [
  {
   "cell_type": "markdown",
   "id": "b5a457d1-f8aa-4e0e-a559-24b507d01258",
   "metadata": {},
   "source": [
    "# Voltage Drop in Lines\n",
    "\n",
    "- We are assuming steady state power flow for all calculations.\n",
    "- For three phase circuits, the load is assumed to be balanced across all three phases.\n",
    "- For direct current (DC), the electricity must make a round trip so the line length is doubled in the calculation."
   ]
  },
  {
   "cell_type": "code",
   "execution_count": null,
   "id": "d1a3d625-0e89-461c-b4ee-250be5a2e3e0",
   "metadata": {},
   "outputs": [],
   "source": [
    "conductor_types = [\n",
    "    'line-overhead-aluminum-steel-reinforced',          # ACSR\n",
    "    'line-overhead-aluminum-alloy',                     # AAAC\n",
    "    'line-overhead-aluminum-alloy-reinforced',          # ACAR\n",
    "    'line-overhead-aluminum-steel-supported',           # ACSS\n",
    "    'line-overhead-aluminum-steel-reinforced-thermal',  # TACSR\n",
    "    'line-overhead-aluminum',                           # AAC\n",
    "    'line-overhead-invar',\n",
    "    'line-overhead-gap',\n",
    "    'line-overhead-accr',\n",
    "    'line-overhead-accc',\n",
    "    'line-overhead-acfr',\n",
    "    'line-overhead-c7',\n",
    "    'line-overhead-losag',\n",
    "    'line-overhead-zfcc',\n",
    "    'line-overhead-acmcc',\n",
    "    'line-overhead-copper',\n",
    "    'line-underground-aluminum-xlpe',\n",
    "    'line-underground-copper-xlpe',\n",
    "    'load']"
   ]
  },
  {
   "cell_type": "code",
   "execution_count": null,
   "id": "d092e6ce-34fa-48ac-b4d2-77ba7057771f",
   "metadata": {},
   "outputs": [],
   "source": [
    "is_three_phase = True\n",
    "is_alternating_current = True\n",
    "temperature_in_celsius = 25\n",
    "conductor_length_in_meters = 100\n",
    "conductor_diameter_in_square_millimeters = 16\n",
    "conductor_type = conductor_types[0]\n",
    "conductor_type"
   ]
  },
  {
   "cell_type": "code",
   "execution_count": null,
   "id": "af32071b-5981-441b-89eb-45e3ff9d4968",
   "metadata": {},
   "outputs": [],
   "source": [
    "# TODO: Model which parts of the circuit are lines and which parts are loads\n",
    "# TODO: Add \"correction factor\" to support modeling of long transmission lines"
   ]
  },
  {
   "cell_type": "code",
   "execution_count": null,
   "id": "234bc583-9573-4dad-a3bd-eff1bdc183fd",
   "metadata": {},
   "outputs": [],
   "source": [
    "current_in_amps = 100"
   ]
  },
  {
   "cell_type": "code",
   "execution_count": null,
   "id": "8ad666ad-b792-4972-bd3e-f5e64fe87e33",
   "metadata": {},
   "outputs": [],
   "source": [
    "resistance_in_ohms = 0"
   ]
  },
  {
   "cell_type": "code",
   "execution_count": null,
   "id": "1d6a1973-21f2-4c7c-81b6-de4424e7d34d",
   "metadata": {},
   "outputs": [],
   "source": [
    "# TODO: Compute reactance depending on conductor diameter, spacing, layout\n",
    "# TODO: Use table https://www.nexans.us/.rest/eservice/dam/v1/file/224198/ACSR_Electrical_Data.pdf"
   ]
  },
  {
   "cell_type": "code",
   "execution_count": null,
   "id": "6cee374a-2570-4d35-bb5b-fcbe9c9467bc",
   "metadata": {},
   "outputs": [],
   "source": [
    "inductive_reactance_in_ohms = 0\n",
    "capacitive_reactance_in_ohms = 0\n",
    "reactance_in_ohms = inductive_reactance_in_ohms - capacitive_reactance_in_ohms"
   ]
  },
  {
   "cell_type": "code",
   "execution_count": null,
   "id": "084a6cef-e59d-4973-bc38-e58bb9deec4f",
   "metadata": {},
   "outputs": [],
   "source": [
    "if is_alternating_current:\n",
    "    impedance_in_ohms = complex(resistance_in_ohms, reactance_in_ohms)\n",
    "else:\n",
    "    impedance_in_ohms = resistance_in_ohms"
   ]
  },
  {
   "cell_type": "code",
   "execution_count": null,
   "id": "fb707551-9955-4211-a059-46d0c9d54791",
   "metadata": {},
   "outputs": [],
   "source": [
    "from math import sqrt\n",
    "\n",
    "if is_three_phase:\n",
    "    voltage_in_volts = sqrt(3) * current_in_amps * impedance_in_ohms\n",
    "else:\n",
    "    voltage_in_volts = 2 * current_in_amps * impedance_in_ohms\n",
    "voltage_in_volts"
   ]
  },
  {
   "cell_type": "code",
   "execution_count": null,
   "id": "485618da-e9d8-460d-8da3-3935ccd44745",
   "metadata": {},
   "outputs": [],
   "source": [
    "# TODO: Calculate voltage drop percent"
   ]
  },
  {
   "cell_type": "markdown",
   "id": "4d2f71d1-333a-4892-abd5-1ac679266d05",
   "metadata": {},
   "source": [
    "# Voltage Drop in Circuits\n",
    "\n",
    "- Each load is a resistor in a circuit."
   ]
  }
 ],
 "metadata": {
  "kernelspec": {
   "display_name": "Python 3 (ipykernel)",
   "language": "python",
   "name": "python3"
  },
  "language_info": {
   "codemirror_mode": {
    "name": "ipython",
    "version": 3
   },
   "file_extension": ".py",
   "mimetype": "text/x-python",
   "name": "python",
   "nbconvert_exporter": "python",
   "pygments_lexer": "ipython3",
   "version": "3.12.2"
  }
 },
 "nbformat": 4,
 "nbformat_minor": 5
}
