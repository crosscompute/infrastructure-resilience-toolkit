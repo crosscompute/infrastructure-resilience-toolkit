{
 "cells": [
  {
   "cell_type": "markdown",
   "id": "5dd266ef-478b-4e32-a32b-f6c3ffd2f975",
   "metadata": {},
   "source": [
    "# Size Transformers and Conductors Given Lengths\n",
    "\n",
    "Objective\n",
    "- Minimize cost.\n",
    "\n",
    "Constraints\n",
    "- Each distribution transformer has a maximum capacity in kVA.\n",
    "- Each service drop must be within a certain percentage of the target voltage."
   ]
  },
  {
   "cell_type": "code",
   "execution_count": null,
   "id": "b3b1a109-71b3-4caa-a9a7-7fcd94a3dc6d",
   "metadata": {},
   "outputs": [],
   "source": [
    "# TODO: Use phase_count, motor_horsepower, target_in_volts to get current_in_amps\n",
    "# TODO: Use phase_count, power_in_watts, target_in_volts to get current_in_amps\n",
    "# TODO: Normalize calculation units to use base scientific units\n",
    "# TODO: Convert table units to calculation units based on column name\n",
    "# TODO: Check that input variables have required fields\n",
    "# TODO: Match transformer secondary voltage to service drop voltage\n",
    "# TODO: Support DC circuit calculations\n",
    "# TODO: Estimate cost in waybill\n",
    "# TODO: Add product URI to waybill as link for nickname\n",
    "# TODO: Format waybill using markdown"
   ]
  },
  {
   "cell_type": "code",
   "execution_count": null,
   "id": "5c1c1968-8aff-4bf3-8687-8e3e63a2348a",
   "metadata": {},
   "outputs": [],
   "source": [
    "from os import getenv\n",
    "from pathlib import Path\n",
    "\n",
    "input_folder = Path(getenv('CROSSCOMPUTE_INPUT_FOLDER', 'batches/standard/input'))\n",
    "output_folder = Path(getenv('CROSSCOMPUTE_OUTPUT_FOLDER', 'batches/standard/output'))\n",
    "output_folder.mkdir(parents=True, exist_ok=True)"
   ]
  },
  {
   "cell_type": "code",
   "execution_count": null,
   "id": "24da7c1c-0a54-4702-97a5-8267f01916a5",
   "metadata": {},
   "outputs": [],
   "source": [
    "import json\n",
    "\n",
    "with (input_folder / 'variables.dictionary').open('rt') as f:\n",
    "    variables_dictionary = json.load(f)\n",
    "variables_dictionary"
   ]
  },
  {
   "cell_type": "code",
   "execution_count": null,
   "id": "39028208-54ca-4a1a-8ac5-57470d208138",
   "metadata": {},
   "outputs": [],
   "source": [
    "import pandas as pd"
   ]
  },
  {
   "cell_type": "code",
   "execution_count": null,
   "id": "99e2e8d8-fadc-4d8a-b836-eb41b107948a",
   "metadata": {},
   "outputs": [],
   "source": [
    "maximum_voltage_drop_percent = variables_dictionary['maximum_voltage_drop_percent']\n",
    "temperature_in_celsius = variables_dictionary['temperature_in_celsius']\n",
    "# is_alternating_current = True"
   ]
  },
  {
   "cell_type": "code",
   "execution_count": null,
   "id": "67a5cc42-d63b-41fe-8713-4035d3822584",
   "metadata": {},
   "outputs": [],
   "source": [
    "transformer_types_table = pd.read_csv(input_folder / 'transformer-types.csv')\n",
    "transformer_types_table.sort_values(['cost_in_dollars', 'size_in_kva'], inplace=True)\n",
    "transformer_types_table[:2]"
   ]
  },
  {
   "cell_type": "code",
   "execution_count": null,
   "id": "bf27ef72-716a-4e25-b1b0-4c32872465f2",
   "metadata": {},
   "outputs": [],
   "source": [
    "conductor_types_table = pd.read_csv(input_folder / 'conductor-types.csv')\n",
    "conductor_types_table.sort_values(['cost_in_dollars_per_foot', 'size_in_mm2'], inplace=True)\n",
    "conductor_types_table[:2]"
   ]
  },
  {
   "cell_type": "code",
   "execution_count": null,
   "id": "3183f520-cb91-46c1-912e-28e2ec9df726",
   "metadata": {},
   "outputs": [],
   "source": [
    "with open(input_folder / 'service-drops.txt', 'rt') as f:\n",
    "    service_drops_text = f.read().strip()\n",
    "print(service_drops_text)"
   ]
  },
  {
   "cell_type": "code",
   "execution_count": null,
   "id": "ac07d243-bad5-452b-9bab-bffc9402de1e",
   "metadata": {},
   "outputs": [],
   "source": [
    "service_drop_dictionaries = []\n",
    "service_drop_dictionary = {}\n",
    "for line in service_drops_text.splitlines():\n",
    "    line = line.strip()\n",
    "    if line.startswith('#'):\n",
    "        continue\n",
    "    if not line:\n",
    "        if service_drop_dictionary:\n",
    "            service_drop_dictionaries.append(service_drop_dictionary)\n",
    "        service_drop_dictionary = {}\n",
    "        continue\n",
    "    key, value = line.split('=')\n",
    "    key = key.strip()\n",
    "    value = value.strip()\n",
    "    try:\n",
    "        float_value = float(value)\n",
    "    except ValueError:\n",
    "        pass\n",
    "    else:\n",
    "        try:\n",
    "            integer_value = int(value)\n",
    "        except ValueError:\n",
    "            value = float_value\n",
    "        else:\n",
    "            value = integer_value if float_value == integer_value else float_value\n",
    "    service_drop_dictionary[key] = value\n",
    "if service_drop_dictionary:\n",
    "    service_drop_dictionaries.append(service_drop_dictionary)    \n",
    "service_drop_dictionaries"
   ]
  },
  {
   "cell_type": "markdown",
   "id": "66448e5f-1182-4f34-aeab-dc827e0765f2",
   "metadata": {},
   "source": [
    "## Check that service drops do not exceed the maximum capacity of their transformer"
   ]
  },
  {
   "cell_type": "code",
   "execution_count": null,
   "id": "4469afdb-1a4c-4db4-8aee-aa4644a43b37",
   "metadata": {},
   "outputs": [],
   "source": [
    "# Group service drops by transformer\n",
    "from collections import defaultdict\n",
    "service_drop_dictionaries_by_transformer_name = defaultdict(list)\n",
    "for d in service_drop_dictionaries:\n",
    "    service_drop_dictionaries_by_transformer_name[d['transformer_name']].append(d)\n",
    "service_drop_dictionaries_by_transformer_name = dict(service_drop_dictionaries_by_transformer_name)    \n",
    "service_drop_dictionaries_by_transformer_name"
   ]
  },
  {
   "cell_type": "code",
   "execution_count": null,
   "id": "a061ee95-4b8b-473f-b1d9-5d3077220848",
   "metadata": {},
   "outputs": [],
   "source": [
    "transformer_dictionaries = []\n",
    "for transformer_name in service_drop_dictionaries_by_transformer_name:\n",
    "    minimum_power_in_kva = 0\n",
    "    phase_counts = []\n",
    "    service_drop_names = []\n",
    "    for service_drop_dictionary in service_drop_dictionaries_by_transformer_name[transformer_name]:\n",
    "        minimum_transformer_size_in_kva = service_drop_dictionary[\n",
    "            'maximum_power_in_kilowatts'] / service_drop_dictionary['minimum_cosine_phi']\n",
    "        minimum_power_in_kva += minimum_transformer_size_in_kva\n",
    "        phase_counts.append(service_drop_dictionary['phase_count'])\n",
    "        service_drop_names.append(service_drop_dictionary['service_drop_name'])\n",
    "    phase_counts = set(phase_counts)        \n",
    "    assert len(phase_counts) == 1\n",
    "    phase_count = list(phase_counts)[0]\n",
    "    transformer_type_dictionary = dict(transformer_types_table[(\n",
    "        transformer_types_table['phase_count'] == phase_count\n",
    "    ) & (\n",
    "        transformer_types_table['size_in_kva'] >= minimum_power_in_kva\n",
    "    )].iloc[0])\n",
    "    transformer_dictionaries.append({\n",
    "        'transformer_name': transformer_name,\n",
    "        'transformer_type_nickname': transformer_type_dictionary['nickname'],\n",
    "        'phase_count': phase_count,\n",
    "        'minimum_size_in_kva': minimum_power_in_kva,\n",
    "        'size_in_kva': transformer_type_dictionary['size_in_kva'],\n",
    "        'service_drop_names': service_drop_names})\n",
    "transformer_dictionaries"
   ]
  },
  {
   "cell_type": "markdown",
   "id": "f631520a-a418-46eb-956d-1599e6afabdc",
   "metadata": {},
   "source": [
    "## Check that each service drop is within a certain percentage of the target voltage"
   ]
  },
  {
   "cell_type": "code",
   "execution_count": null,
   "id": "79df6325-118e-463d-8efe-4f66b10bda9a",
   "metadata": {},
   "outputs": [],
   "source": [
    "from infrastructure_resilience_toolkit.routines import compute_voltage_drop_percent\n",
    "\n",
    "for service_drop_dictionary in service_drop_dictionaries:\n",
    "    is_three_phase = service_drop_dictionary['phase_count'] == 3\n",
    "    line_to_line_in_volts = service_drop_dictionary['line_to_line_in_volts']\n",
    "    conductor_instalation_type = service_drop_dictionary['conductor_installation_type']\n",
    "    conductor_length_in_feet = service_drop_dictionary['conductor_length_in_feet']\n",
    "    conductor_spacing_in_inches = service_drop_dictionary['conductor_spacing_in_inches']\n",
    "    current_in_amps = service_drop_dictionary['maximum_power_in_kilowatts'] / line_to_line_in_volts\n",
    "    minimum_cosine_phi = service_drop_dictionary['minimum_cosine_phi']\n",
    "    maximum_cosine_phi = service_drop_dictionary['maximum_cosine_phi']\n",
    "    selected_conductor_types_table = conductor_types_table[(\n",
    "        conductor_types_table['installation_type'] == conductor_instalation_type\n",
    "    ) & (\n",
    "        conductor_types_table['spacing_in_inches'] == conductor_spacing_in_inches\n",
    "    ) & (        \n",
    "        conductor_types_table['temperature_in_celsius'] == temperature_in_celsius\n",
    "    )]\n",
    "    for conductor_index, conductor_row in selected_conductor_types_table.iterrows():\n",
    "        resistance_in_ohms = conductor_row['resistance_ac_in_ohms_per_kilofoot'] * conductor_length_in_feet / 1000\n",
    "        reactance_in_ohms = conductor_row['reactance_inductive_in_ohm_per_kilofoot'] * conductor_length_in_feet / 1000\n",
    "        ampacity_in_amps = conductor_row['ampacity_in_amps']\n",
    "        voltage_drop_percents = []\n",
    "        for cosine_phi in minimum_cosine_phi, maximum_cosine_phi:\n",
    "            voltage_drop_percents.append(compute_voltage_drop_percent(\n",
    "                is_three_phase=is_three_phase,\n",
    "                source_line_to_line_in_volts=line_to_line_in_volts,\n",
    "                current_in_amps=current_in_amps,\n",
    "                resistance_in_ohms=resistance_in_ohms,\n",
    "                reactance_in_ohms=reactance_in_ohms,\n",
    "                cosine_phi=cosine_phi))\n",
    "        voltage_drop_percent = max(voltage_drop_percents)\n",
    "        if current_in_amps > ampacity_in_amps:\n",
    "            continue\n",
    "        if voltage_drop_percent <= maximum_voltage_drop_percent:\n",
    "            break\n",
    "    service_drop_dictionary.update({\n",
    "        'conductor_type_nickname': conductor_row['nickname'],\n",
    "        'size_in_awg': conductor_row['size_in_awg'],\n",
    "        'size_in_kcmil': conductor_row['size_in_kcmil'],\n",
    "        'size_in_mm2': conductor_row['size_in_mm2'],\n",
    "        'ampacity_in_amps': ampacity_in_amps,\n",
    "        'estimated_current_in_amps': current_in_amps,\n",
    "        'estimated_voltage_drop_percent': voltage_drop_percent})\n",
    "for d in service_drop_dictionaries:\n",
    "    print(d)"
   ]
  },
  {
   "cell_type": "markdown",
   "id": "e51eceaf-c8db-4d21-89ac-f8f0e891c169",
   "metadata": {},
   "source": [
    "## Save output files"
   ]
  },
  {
   "cell_type": "code",
   "execution_count": null,
   "id": "a9ef6707-f951-4082-bf54-b5c529f32c65",
   "metadata": {},
   "outputs": [],
   "source": [
    "error_texts = []"
   ]
  },
  {
   "cell_type": "code",
   "execution_count": null,
   "id": "d8e3857f-1d01-40eb-9f5a-1bdd6e21cdf4",
   "metadata": {},
   "outputs": [],
   "source": [
    "transformers_table = pd.DataFrame(transformer_dictionaries)\n",
    "transformers_table.to_csv(output_folder / 'transformers.csv', index=False)\n",
    "\n",
    "transformer_texts = []\n",
    "for row_index, row in transformers_table.iterrows():\n",
    "    transformer_name = row['transformer_name']\n",
    "    transformer_lines = []\n",
    "    transformer_lines.append('Transformer = %s' % transformer_name)\n",
    "    transformer_lines.append('Minimum Size = %s kVA' % round(row['minimum_size_in_kva'], 2))\n",
    "    if row['minimum_size_in_kva'] <= row['size_in_kva']:\n",
    "        transformer_lines.append('Recommended Size = %s kVA' % row['size_in_kva'])    \n",
    "        transformer_lines.append('**Recommended Transformer Type = %s**' % row['transformer_type_nickname'])\n",
    "    else:\n",
    "        transformer_lines.append('<span class=\"error\">No Transformer Type Satisfies the Requirements</span>')\n",
    "        error_texts.append(f'Transformer {transformer_name} power requirements exceed available transformer types.')\n",
    "    transformer_texts.append('\\n'.join(transformer_lines))\n",
    "with open(output_folder / 'transformers.md', 'wt') as f:\n",
    "    f.write('\\n\\n'.join(transformer_texts))"
   ]
  },
  {
   "cell_type": "code",
   "execution_count": null,
   "id": "b6131077-ad2e-437b-965f-4a309bc0e7de",
   "metadata": {},
   "outputs": [],
   "source": [
    "conductors_table = pd.DataFrame(service_drop_dictionaries)\n",
    "conductors_table.to_csv(output_folder / 'conductors.csv', index=False)\n",
    "\n",
    "conductor_texts = []\n",
    "for row_index, row in conductors_table.iterrows():\n",
    "    conductor_name = 'From %s To %s' % (row['transformer_name'], row['service_drop_name'])\n",
    "    conductor_lines = []\n",
    "    conductor_lines.append(conductor_name)\n",
    "    conductor_lines.append('Conductor Length = %s feet %s' % (\n",
    "        row['conductor_length_in_feet'],\n",
    "        row['conductor_installation_type']))\n",
    "    conductor_lines.append('Maximum Power = %s kW' % row['maximum_power_in_kilowatts'])\n",
    "    if row['estimated_voltage_drop_percent'] <= maximum_voltage_drop_percent:\n",
    "        conductor_lines.append('**Recommended Conductor Type = %s**' % row['conductor_type_nickname'])\n",
    "        conductor_lines.append('Estimated Voltage Drop = %s%% <= %s%%' % (\n",
    "            round(row['estimated_voltage_drop_percent'], 5),\n",
    "            maximum_voltage_drop_percent))\n",
    "    else:\n",
    "        conductor_lines.append('<span class=\"error\">No Conductor Type Satisfies the Requirements</span>')\n",
    "        error_texts.append(f'Conductor {conductor_name} power requirements exceed available conductor types.')\n",
    "    conductor_texts.append('\\n'.join(conductor_lines))\n",
    "with open(output_folder / 'conductors.md', 'wt') as f:\n",
    "    f.write('\\n\\n'.join(conductor_texts))"
   ]
  },
  {
   "cell_type": "code",
   "execution_count": null,
   "id": "e791e951-3c71-49b4-a710-aab48cd5ea4f",
   "metadata": {},
   "outputs": [],
   "source": [
    "transformers_waybill_table = pd.DataFrame(\n",
    "    transformers_table['transformer_type_nickname'].value_counts()\n",
    ").reset_index().rename(columns={\n",
    "    'transformer_type_nickname': 'nickname',\n",
    "    'count': 'count'})\n",
    "transformers_waybill_table['unit'] = 'item'\n",
    "transformers_waybill_table"
   ]
  },
  {
   "cell_type": "code",
   "execution_count": null,
   "id": "b69a0325-5b0a-4135-9f96-f47b6dcbda9d",
   "metadata": {},
   "outputs": [],
   "source": [
    "conductors_waybill_table = pd.DataFrame(\n",
    "    conductors_table.groupby('conductor_type_nickname')['conductor_length_in_feet'].sum()\n",
    ").reset_index().rename(columns={\n",
    "    'conductor_type_nickname': 'nickname',\n",
    "    'conductor_length_in_feet': 'count'})\n",
    "conductors_waybill_table['unit'] = 'foot'\n",
    "conductors_waybill_table"
   ]
  },
  {
   "cell_type": "code",
   "execution_count": null,
   "id": "4eb6b41e-5f67-4483-8faa-a9d8f79c22b3",
   "metadata": {},
   "outputs": [],
   "source": [
    "waybill_table = pd.concat([\n",
    "    transformers_waybill_table,\n",
    "    conductors_waybill_table])\n",
    "waybill_table.to_csv(output_folder / 'waybill.csv', index=False)\n",
    "waybill_table.to_json(output_folder / 'waybill.json', orient='split', index=False)"
   ]
  }
 ],
 "metadata": {
  "kernelspec": {
   "display_name": "Python 3 (ipykernel)",
   "language": "python",
   "name": "python3"
  },
  "language_info": {
   "codemirror_mode": {
    "name": "ipython",
    "version": 3
   },
   "file_extension": ".py",
   "mimetype": "text/x-python",
   "name": "python",
   "nbconvert_exporter": "python",
   "pygments_lexer": "ipython3",
   "version": "3.12.2"
  }
 },
 "nbformat": 4,
 "nbformat_minor": 5
}
